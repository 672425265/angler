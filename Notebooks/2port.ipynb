{
 "cells": [
  {
   "cell_type": "code",
   "execution_count": 1,
   "metadata": {},
   "outputs": [],
   "source": [
    "import warnings\n",
    "warnings.filterwarnings('ignore')\n",
    "\n",
    "import numpy as np\n",
    "import matplotlib.pylab as plt\n",
    "import copy\n",
    "\n",
    "import sys\n",
    "sys.path.append(\"..\")\n",
    "\n",
    "from fdfdpy import Simulation\n",
    "from structures import three_port, two_port\n",
    "from optimization import Optimization\n",
    "\n",
    "%load_ext autoreload\n",
    "%autoreload 2\n",
    "%matplotlib inline"
   ]
  },
  {
   "cell_type": "code",
   "execution_count": 2,
   "metadata": {
    "collapsed": true
   },
   "outputs": [],
   "source": [
    "lambda0 = 2e-6              # free space wavelength (m)\n",
    "c0 = 3e8                    # speed of light in vacuum (m/s)\n",
    "omega = 2*np.pi*c0/lambda0  # angular frequency (2pi/s)\n",
    "dl = 1.0e-1                 # grid size (L0)\n",
    "NPML = [15, 15]             # number of pml grid points on x and y borders\n",
    "pol = 'Ez'                  # polarization (either 'Hz' or 'Ez')\n",
    "source_amp = 1.6             # amplitude of modal source (A/L0^2?)"
   ]
  },
  {
   "cell_type": "code",
   "execution_count": 3,
   "metadata": {
    "collapsed": true
   },
   "outputs": [],
   "source": [
    "# material constants\n",
    "n_index = 2.44              # refractive index\n",
    "eps_m = n_index**2          # relative permittivity\n",
    "chi3 = 4.1*1e-19            # Al2S3 from Boyd (m^2/V^2)\n",
    "# max_ind_shift = 5.8e-3      # maximum allowed nonlinear refractive index shift (computed from damage threshold)"
   ]
  },
  {
   "cell_type": "code",
   "execution_count": 4,
   "metadata": {
    "collapsed": true
   },
   "outputs": [],
   "source": [
    "# geometric parameters\n",
    "L = 8         # length of box (L0)\n",
    "H = 5         # height of box (L0)\n",
    "w = .3        # width of waveguides (L0)\n",
    "d = H/2.44    # distance between waveguides (L0)\n",
    "l = 4         # length of waveguide from PML to box (L0)\n",
    "spc = 3       # space between box and PML (L0)"
   ]
  },
  {
   "cell_type": "code",
   "execution_count": 5,
   "metadata": {},
   "outputs": [
    {
     "name": "stdout",
     "output_type": "stream",
     "text": [
      "Computed a domain with 190 grids in x and 140 grids in y\n",
      "The simulation has 20 grids per free space wavelength\n"
     ]
    },
    {
     "data": {
      "image/png": "[encoded data removed]",
      "text/plain": [
       "<Figure size 432x288 with 2 Axes>"
      ]
     },
     "metadata": {},
     "output_type": "display_data"
    }
   ],
   "source": [
    "# define permittivity of three port system\n",
    "eps_r, design_region = two_port(L, H, w, l, spc, dl, NPML, eps_m)\n",
    "(Nx, Ny) = eps_r.shape\n",
    "nx, ny = int(Nx/2), int(Ny/2)            # halfway grid points\n",
    "\n",
    "simulation = Simulation(omega,eps_r,dl,NPML,pol)\n",
    "# compute the grid size the total grid size\n",
    "print(\"Computed a domain with {} grids in x and {} grids in y\".format(Nx,Ny))\n",
    "print(\"The simulation has {} grids per free space wavelength\".format(int(lambda0/dl/simulation.L0)))\n",
    "simulation.plt_eps()\n",
    "plt.show()"
   ]
  },
  {
   "cell_type": "code",
   "execution_count": 6,
   "metadata": {},
   "outputs": [],
   "source": [
    "# set the modal source and probes\n",
    "simulation = Simulation(omega, eps_r, dl, NPML, 'Ez')\n",
    "simulation.add_mode(np.sqrt(eps_m), 'x', [NPML[0]+int(l/2/dl), ny], int(H/2/dl), scale=source_amp)\n",
    "simulation.setup_modes()\n",
    "\n",
    "# top modal profile\n",
    "out = Simulation(omega, eps_r, dl, NPML, 'Ez')\n",
    "out.add_mode(np.sqrt(eps_m), 'x', [-NPML[0]-int(l/2/dl), ny], int(H/2/dl))\n",
    "out.setup_modes()\n",
    "J_out = np.abs(out.src)"
   ]
  },
  {
   "cell_type": "code",
   "execution_count": 7,
   "metadata": {},
   "outputs": [
    {
     "data": {
      "image/png": "[encoded data removed]",
      "text/plain": [
       "<Figure size 432x288 with 2 Axes>"
      ]
     },
     "metadata": {},
     "output_type": "display_data"
    }
   ],
   "source": [
    "# set source and solve for electromagnetic fields\n",
    "(_, _, Ez) = simulation.solve_fields()\n",
    "simulation.plt_abs(outline=True, cbar=True);"
   ]
  },
  {
   "cell_type": "code",
   "execution_count": 8,
   "metadata": {},
   "outputs": [
    {
     "name": "stdout",
     "output_type": "stream",
     "text": [
      "computed a scale of 152.51157125722864 in units of E^2 J_out\n"
     ]
    }
   ],
   "source": [
    "# compute straight line simulation\n",
    "eps_r_wg, _ = two_port(L, H, w, l, spc, dl, NPML, eps_start=eps_m)\n",
    "(Nx_wg, Ny_wg) = eps_r_wg.shape\n",
    "nx_wg, ny_wg = int(Nx_wg/2), int(Ny_wg/2)            # halfway grid points     \n",
    "simulation_wg = Simulation(omega, eps_r_wg, dl, NPML, 'Ez')\n",
    "simulation_wg.add_mode(np.sqrt(eps_m), 'x', [NPML[0]+int(l/2/dl), ny_wg], int(H/2/dl), scale=source_amp)\n",
    "simulation_wg.setup_modes()\n",
    "\n",
    "# compute normalization\n",
    "sim_out = Simulation(omega, eps_r_wg, dl, NPML, 'Ez')\n",
    "sim_out.add_mode(np.sqrt(eps_m), 'x', [-NPML[0]-int(l/2/dl), ny], int(H/2/dl))\n",
    "sim_out.setup_modes()\n",
    "J_out = np.abs(sim_out.src)\n",
    "(_, _, Ez_wg) = simulation_wg.solve_fields()\n",
    "SCALE = np.sum(np.square(np.abs(Ez_wg))*J_out)\n",
    "print('computed a scale of {} in units of E^2 J_out'.format(SCALE))"
   ]
  },
  {
   "cell_type": "code",
   "execution_count": 9,
   "metadata": {
    "collapsed": true
   },
   "outputs": [
    {
     "data": {
      "image/png": "[encoded data removed]",
      "text/plain": [
       "<Figure size 432x288 with 2 Axes>"
      ]
     },
     "metadata": {},
     "output_type": "display_data"
    }
   ],
   "source": [
    "# set the design region to whatever you want in {'clean','halfway','random'} if None, then uses current eps of simulation\n",
    "initialize = 'clean'\n",
    "if initialize == 'halfway':\n",
    "    eps_halfway = simulation.eps_r\n",
    "    eps_halfway[design_region == 1] = eps_m/2 + 1/2\n",
    "    simulation.eps_r = eps_halfway\n",
    "elif initialize == 'random':\n",
    "    eps_random = (eps_m-1)*np.random.random(simulation.eps_r.shape)+1\n",
    "    eps_random[design_region == 0] = simulation.eps_r[design_region == 0]\n",
    "    simulation.eps_r = eps_random\n",
    "elif initialize == 'clean':\n",
    "    eps_clean, _ = two_port(L, H, w, l, spc, dl, NPML, eps_m)\n",
    "    simulation.eps_r = eps_clean\n",
    "    \n",
    "simulation.plt_eps()\n",
    "plt.show()"
   ]
  },
  {
   "cell_type": "code",
   "execution_count": 10,
   "metadata": {},
   "outputs": [],
   "source": [
    "# add nonlinearity\n",
    "nl_region = copy.deepcopy(design_region)\n",
    "\n",
    "simulation.nonlinearity = []  # This is needed in case you re-run this cell, for example (or you can re-initialize simulation every time)\n",
    "simulation.add_nl(chi3, nl_region, eps_scale=True, eps_max=eps_m)"
   ]
  },
  {
   "cell_type": "code",
   "execution_count": 11,
   "metadata": {},
   "outputs": [],
   "source": [
    "# define objective function\n",
    "import autograd.numpy as npa\n",
    "def J(e, e_nl, eps):\n",
    "    \"\"\" objective function of BOOST means perfect separation between linear and nonlinear\n",
    "        note: need BOOST if the objective function is too low (source amplitude is low).\n",
    "        In this case LBFGS just converges and returns before it's actually done.\n",
    "        Working on this.\n",
    "    \"\"\"\n",
    "    BOOST = 1e7\n",
    "    Binary_Penalty = 1   \n",
    "    linear_out =     1*npa.sum(npa.square(npa.abs(e))*J_out)\n",
    "    nonlinear_out = -1*npa.sum(npa.square(npa.abs(e_nl))*J_out)\n",
    "    objfn = linear_out + nonlinear_out\n",
    "    objfn_binary = objfn - Binary_Penalty*npa.sum(npa.square(eps*design_region - npa.ones(eps.shape))*npa.square(eps*design_region - eps_m*npa.ones(eps.shape))) / Nx / Ny\n",
    "    return objfn_binary / SCALE * BOOST"
   ]
  },
  {
   "cell_type": "code",
   "execution_count": null,
   "metadata": {},
   "outputs": [
    {
     "name": "stdout",
     "output_type": "stream",
     "text": [
      "adjoint gradient   = [0.020802306908080936, -0.015627424399767165, -0.036273941864383374, -0.0030030189150238584]\n",
      "numerical gradient = [0.013927929103374481, -0.02130866050720215, -0.04123197868466377, -0.008826609700918198]\n"
     ]
    }
   ],
   "source": [
    "# make optimization object and check derivatives\n",
    "optimization = Optimization(J=J, Nsteps=500, eps_max=eps_m, field_start='linear', nl_solver='newton')\n",
    "\n",
    "# check the derivatives (note, full derivatives are checked, linear and nonlinear no longer separate)\n",
    "(grad_avm, grad_num) = optimization.check_deriv(simulation, design_region, Npts=4)\n",
    "print('adjoint gradient   = {}\\nnumerical gradient = {}'.format(grad_avm, grad_num))"
   ]
  },
  {
   "cell_type": "code",
   "execution_count": null,
   "metadata": {},
   "outputs": [
    {
     "name": "stderr",
     "output_type": "stream",
     "text": [
      " ObjectiveFn: 3.39e+06 Iteration:  95/500 ETA:   1:33:54                       "
     ]
    }
   ],
   "source": [
    "# run the optimization with the simulation and the region and nonlinearity information\n",
    "new_eps = optimization.run(simulation, design_region, method='lbfgs')\n",
    "# new_eps = optimization.run(simulation, design_region, method='gd', step_size=1e3)\n",
    "# new_eps = optimization.run(simulation, design_region, method='adam', step_size=1e-1, beta1=0.9, beta2=0.99)"
   ]
  },
  {
   "cell_type": "code",
   "execution_count": null,
   "metadata": {},
   "outputs": [],
   "source": [
    "# plot optimization results\n",
    "f, (ax1, ax2) = plt.subplots(1, 2, figsize=(16,5))\n",
    "\n",
    "simulation.plt_eps(ax=ax1)\n",
    "ax1.set_title('final permittivity distribution')\n",
    "\n",
    "optimization.plt_objs(ax=ax2)\n",
    "ax2.set_yscale('linear')\n",
    "plt.show()"
   ]
  },
  {
   "cell_type": "code",
   "execution_count": null,
   "metadata": {},
   "outputs": [],
   "source": [
    "# compare the linear and nonlinear fields\n",
    "\n",
    "# setup subplots\n",
    "f, (ax1, ax2, ax3) = plt.subplots(1,3, figsize=(20,5))\n",
    "\n",
    "# linear fields\n",
    "(Hx,Hy,Ez) = simulation.solve_fields()\n",
    "simulation.plt_abs(ax=ax1)\n",
    "ax1.set_title('linear field')\n",
    "\n",
    "# nonlinear fields\n",
    "(Hx_nl,Hy_nl,Ez_nl,_) = simulation.solve_fields_nl()\n",
    "simulation.plt_abs(ax=ax2)\n",
    "ax2.set_title('nonlinear field')\n",
    "\n",
    "# difference\n",
    "simulation.plt_diff(ax=ax3)\n",
    "ax3.set_title('|Ez| for linear - nonlinear')\n",
    "\n",
    "plt.show()"
   ]
  },
  {
   "cell_type": "code",
   "execution_count": null,
   "metadata": {},
   "outputs": [],
   "source": [
    "# compute the refractive index shift\n",
    "index_shift = optimization.compute_index_shift(simulation)\n",
    "print('maximum refractive index shift of {}'.format(np.max(index_shift)))\n",
    "plt.imshow(index_shift.T, cmap='magma', origin='lower')\n",
    "plt.colorbar()\n",
    "plt.title('refractive index shift')\n",
    "plt.show()"
   ]
  },
  {
   "cell_type": "code",
   "execution_count": null,
   "metadata": {},
   "outputs": [],
   "source": [
    "# compute powers\n",
    "\n",
    "# input power\n",
    "W_in = simulation.W_in\n",
    "\n",
    "# linear powers\n",
    "(Hx,Hy,Ez) = simulation.solve_fields()\n",
    "W_out_lin = simulation.flux_probe('x', [-NPML[0]-int(l/2/dl), ny], int(Ny/2))\n",
    "W_in_lin = simulation.flux_probe('x', [NPML[0]+int(2*l/3/dl), ny], int(Ny/2))\n",
    "\n",
    "T_lin = W_out_lin/W_in\n",
    "\n",
    "# nonlinear powers\n",
    "(Hx_nl,Hy_nl,Ez_nl,_) = simulation.solve_fields_nl()\n",
    "W_out_nl = simulation.flux_probe('x', [-NPML[0]-int(l/2/dl), ny], int(Ny/2))\n",
    "W_in_nl = simulation.flux_probe('x', [NPML[0]+int(2*l/3/dl), ny], int(Ny/2))\n",
    "\n",
    "T_nl = W_out_nl/W_in\n",
    "\n",
    "print('linear transmission              = {:.4f}'.format(T_lin))\n",
    "print('nonlinear transmission           = {:.4f}\\n'.format(T_nl))\n",
    "print('relative power difference        = {:.2f} %'.format(100*abs(W_out_lin-W_out_nl)/W_out_lin))\n",
    "print('relative transmission difference = {:.2f} %'.format(100*abs(T_lin-T_nl)/T_lin))\n"
   ]
  },
  {
   "cell_type": "code",
   "execution_count": null,
   "metadata": {},
   "outputs": [],
   "source": [
    "freqs, objs, FWHM = optimization.scan_frequency(Nf=50, df=1/400)\n",
    "optimization.simulation.omega = omega\n",
    "plt.plot([(f-150e12)/1e9 for f in freqs], objs)\n",
    "plt.xlabel('frequency difference (GHz)')\n",
    "plt.ylabel('objective function')\n",
    "plt.show()\n",
    "print('computed FWHM of {} (GHz):'.format(FWHM/1e9))\n",
    "print('Q factor of {0:.2E}'.format(omega/2/np.pi/FWHM))"
   ]
  },
  {
   "cell_type": "code",
   "execution_count": null,
   "metadata": {},
   "outputs": [],
   "source": []
  },
  {
   "cell_type": "code",
   "execution_count": null,
   "metadata": {},
   "outputs": [],
   "source": []
  }
 ],
 "metadata": {
  "anaconda-cloud": {},
  "kernelspec": {
   "display_name": "Python 3",
   "language": "python",
   "name": "python3"
  },
  "language_info": {
   "codemirror_mode": {
    "name": "ipython",
    "version": 3
   },
   "file_extension": ".py",
   "mimetype": "text/x-python",
   "name": "python",
   "nbconvert_exporter": "python",
   "pygments_lexer": "ipython3",
   "version": "3.6.4"
  }
 },
 "nbformat": 4,
 "nbformat_minor": 2
}
