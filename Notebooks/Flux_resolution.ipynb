{
 "cells": [
  {
   "cell_type": "code",
   "execution_count": 30,
   "metadata": {
    "collapsed": false,
    "scrolled": true
   },
   "outputs": [
    {
     "name": "stdout",
     "output_type": "stream",
     "text": [
      "The autoreload extension is already loaded. To reload it, use:\n",
      "  %reload_ext autoreload\n"
     ]
    }
   ],
   "source": [
    "# note: fdfdpy and nonlinear_avm must be in PATH\n",
    "from fdfdpy.Fdfd import Fdfd\n",
    "from optimization import run_optimization\n",
    "from optimization_class import Optimization\n",
    "from structures import three_port\n",
    "\n",
    "import numpy as np\n",
    "import matplotlib.pylab as plt\n",
    "import scipy.sparse as sp\n",
    "\n",
    "%load_ext autoreload\n",
    "%autoreload 2\n",
    "%matplotlib inline"
   ]
  },
  {
   "cell_type": "code",
   "execution_count": 31,
   "metadata": {
    "collapsed": false
   },
   "outputs": [],
   "source": [
    "lambda0 = 2e-6\n",
    "c0 = 3e8\n",
    "omega = 2*np.pi*c0/lambda0  # angular frequency (2pi)\n",
    "dl = 0.4e-1                   # grid size (L0)\n",
    "Nx = 200\n",
    "Ny = 150\n",
    "nx, ny = int(Nx/2), int(Ny/2)\n",
    "shape = (Nx,Ny)           # shape of domain (in grids)\n",
    "NPML = [10, 10]             # number of pml grid points on x and y borders\n",
    "pol = 'Ez'                  # polarization (either 'Hz' or 'Ez')"
   ]
  },
  {
   "cell_type": "code",
   "execution_count": 32,
   "metadata": {
    "collapsed": true
   },
   "outputs": [],
   "source": [
    "# define the two port parameters\n",
    "L = 3.24\n",
    "H = 3\n",
    "w = .2\n",
    "d = 1.5\n",
    "# d = int(d/2/dl)*dl*2"
   ]
  },
  {
   "cell_type": "code",
   "execution_count": 33,
   "metadata": {
    "collapsed": false
   },
   "outputs": [
    {
     "data": {
      "image/png": "[encoded data removed]",
      "text/plain": [
       "<Figure size 432x288 with 2 Axes>"
      ]
     },
     "metadata": {},
     "output_type": "display_data"
    }
   ],
   "source": [
    "# define permittivity of three port system\n",
    "eps_r = three_port(L, H, w, d, dl, shape, eps_start=10)\n",
    "simulation = Fdfd(omega,eps_r,dl,NPML,pol)\n",
    "simulation.plt_eps()\n",
    "plt.show()"
   ]
  },
  {
   "cell_type": "code",
   "execution_count": 34,
   "metadata": {
    "collapsed": false
   },
   "outputs": [
    {
     "name": "stdout",
     "output_type": "stream",
     "text": [
      "input power of 6.465789497884717 W/L0\n"
     ]
    }
   ],
   "source": [
    "# set the modal source and probes\n",
    "simulation.add_mode(3.5, 'x', [15, ny], 100, scale=70)\n",
    "simulation.setup_modes()\n",
    "print('input power of {} W/L0'.format(simulation.W_in))\n"
   ]
  },
  {
   "cell_type": "code",
   "execution_count": 35,
   "metadata": {
    "collapsed": false
   },
   "outputs": [
    {
     "data": {
      "image/png": "[encoded data removed]",
      "text/plain": [
       "<Figure size 432x288 with 2 Axes>"
      ]
     },
     "metadata": {},
     "output_type": "display_data"
    },
    {
     "name": "stdout",
     "output_type": "stream",
     "text": [
      "input power of 0.8305782619598873 W/L0\n"
     ]
    }
   ],
   "source": [
    "# Define a finer meshing of the same structure\n",
    "dl = 0.2e-1                   # grid size (L0)\n",
    "Nx = 400\n",
    "Ny = 300\n",
    "nx, ny = int(Nx/2), int(Ny/2)\n",
    "shape = (Nx,Ny)           # shape of domain (in grids)\n",
    "# define permittivity of three port system\n",
    "eps_r = three_port(L, H, w, d, dl, shape, eps_start=10)\n",
    "simulation = Fdfd(omega,eps_r,dl,NPML,pol)\n",
    "simulation.plt_eps()\n",
    "plt.show()\n",
    "# simulation to solve\n",
    "simulation = Fdfd(omega, eps_r, dl, NPML, 'Ez')\n",
    "simulation.add_mode(3.5, 'x', [15, ny], 100, scale=70)\n",
    "simulation.setup_modes()\n",
    "print('input power of {} W/L0'.format(simulation.W_in))"
   ]
  },
  {
   "cell_type": "code",
   "execution_count": null,
   "metadata": {
    "collapsed": true
   },
   "outputs": [],
   "source": []
  }
 ],
 "metadata": {
  "anaconda-cloud": {},
  "kernelspec": {
   "display_name": "Python [default]",
   "language": "python",
   "name": "python3"
  },
  "language_info": {
   "codemirror_mode": {
    "name": "ipython",
    "version": 3
   },
   "file_extension": ".py",
   "mimetype": "text/x-python",
   "name": "python",
   "nbconvert_exporter": "python",
   "pygments_lexer": "ipython3",
   "version": "3.5.2"
  }
 },
 "nbformat": 4,
 "nbformat_minor": 2
}
