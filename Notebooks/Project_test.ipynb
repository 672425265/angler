{
 "cells": [
  {
   "cell_type": "code",
   "execution_count": 1,
   "metadata": {},
   "outputs": [],
   "source": [
    "import warnings\n",
    "warnings.filterwarnings('ignore')\n",
    "\n",
    "import numpy as np\n",
    "import matplotlib.pylab as plt\n",
    "import copy\n",
    "\n",
    "import sys\n",
    "sys.path.append(\"..\")\n",
    "sys.path.append(\"../../fdfdpy\")\n",
    "\n",
    "from fdfdpy import Simulation\n",
    "from structures import three_port, two_port\n",
    "from optimization import Optimization\n",
    "from utils import Binarizer\n",
    "\n",
    "%load_ext autoreload\n",
    "%autoreload 2\n",
    "%matplotlib inline"
   ]
  },
  {
   "cell_type": "code",
   "execution_count": 2,
   "metadata": {
    "collapsed": true
   },
   "outputs": [],
   "source": [
    "lambda0 = 2e-6              # free space wavelength (m)\n",
    "c0 = 3e8                    # speed of light in vacuum (m/s)\n",
    "omega = 2*np.pi*c0/lambda0  # angular frequency (2pi/s)\n",
    "dl = 0.8e-1                 # grid size (L0)\n",
    "NPML = [15, 15]             # number of pml grid points on x and y borders\n",
    "pol = 'Ez'                  # polarization (either 'Hz' or 'Ez')\n",
    "source_amp = 100             # amplitude of modal source (A/L0^2?)"
   ]
  },
  {
   "cell_type": "code",
   "execution_count": 3,
   "metadata": {
    "collapsed": true
   },
   "outputs": [],
   "source": [
    "# material constants\n",
    "n_index = 2.44              # refractive index\n",
    "eps_m = n_index**2          # relative permittivity\n",
    "chi3 = 4.1*1e-19            # Al2S3 from Boyd (m^2/V^2)\n",
    "# max_ind_shift = 5.8e-3      # maximum allowed nonlinear refractive index shift (computed from damage threshold)"
   ]
  },
  {
   "cell_type": "code",
   "execution_count": 4,
   "metadata": {
    "collapsed": true
   },
   "outputs": [],
   "source": [
    "# geometric parameters\n",
    "L = 10         # length of box (L0)\n",
    "H = 3        # height of box (L0)\n",
    "w = .3        # width of waveguides (L0)\n",
    "d = H/2.44    # distance between waveguides (L0)\n",
    "l = 4         # length of waveguide from PML to box (L0)\n",
    "spc = 3       # space between box and PML (L0)"
   ]
  },
  {
   "cell_type": "code",
   "execution_count": 5,
   "metadata": {},
   "outputs": [
    {
     "name": "stdout",
     "output_type": "stream",
     "text": [
      "Computed a domain with 255 grids in x and 142 grids in y\n",
      "The simulation has 25 grids per free space wavelength\n"
     ]
    },
    {
     "data": {
      "image/png": "[encoded data removed]",
      "text/plain": [
       "<Figure size 432x288 with 2 Axes>"
      ]
     },
     "metadata": {},
     "output_type": "display_data"
    }
   ],
   "source": [
    "# define permittivity of three port system\n",
    "eps_r, design_region = two_port(L, H, w, l, spc, dl, NPML, eps_m)\n",
    "(Nx, Ny) = eps_r.shape\n",
    "nx, ny = int(Nx/2), int(Ny/2)            # halfway grid points\n",
    "\n",
    "simulation = Simulation(omega,eps_r,dl,NPML,pol)\n",
    "# compute the grid size the total grid size\n",
    "print(\"Computed a domain with {} grids in x and {} grids in y\".format(Nx,Ny))\n",
    "print(\"The simulation has {} grids per free space wavelength\".format(int(lambda0/dl/simulation.L0)))\n",
    "simulation.plt_eps()\n",
    "plt.show()"
   ]
  },
  {
   "cell_type": "code",
   "execution_count": 6,
   "metadata": {},
   "outputs": [],
   "source": [
    "# set the modal source and probes\n",
    "simulation = Simulation(omega, eps_r, dl, NPML, 'Ez')\n",
    "simulation.add_mode(np.sqrt(eps_m), 'x', [NPML[0]+int(l/2/dl), ny], int(Ny/3), scale=source_amp)\n",
    "simulation.setup_modes()\n",
    "\n",
    "# top modal profile\n",
    "out = Simulation(omega, eps_r, dl, NPML, 'Ez')\n",
    "out.add_mode(np.sqrt(eps_m), 'x', [-NPML[0]-int(l/2/dl), ny], int(Ny/3))\n",
    "out.setup_modes()\n",
    "J_out = np.abs(out.src)"
   ]
  },
  {
   "cell_type": "code",
   "execution_count": 7,
   "metadata": {},
   "outputs": [
    {
     "data": {
      "image/png": "[encoded data removed]",
      "text/plain": [
       "<Figure size 432x288 with 2 Axes>"
      ]
     },
     "metadata": {},
     "output_type": "display_data"
    }
   ],
   "source": [
    "# set source and solve for electromagnetic fields\n",
    "(_, _, Ez) = simulation.solve_fields()\n",
    "simulation.plt_abs(outline=True, cbar=True);"
   ]
  },
  {
   "cell_type": "code",
   "execution_count": 8,
   "metadata": {},
   "outputs": [
    {
     "name": "stdout",
     "output_type": "stream",
     "text": [
      "computed a scale of 255414.5288716238 in units of E^2 J_out\n"
     ]
    }
   ],
   "source": [
    "# compute straight line simulation\n",
    "eps_r_wg, _ = two_port(L, H, w, l, spc, dl, NPML, eps_start=eps_m)\n",
    "(Nx_wg, Ny_wg) = eps_r_wg.shape\n",
    "nx_wg, ny_wg = int(Nx_wg/2), int(Ny_wg/2)            # halfway grid points     \n",
    "simulation_wg = Simulation(omega, eps_r_wg, dl, NPML, 'Ez')\n",
    "simulation_wg.add_mode(np.sqrt(eps_m), 'x', [NPML[0]+int(l/2/dl), ny_wg], int(Ny/3), scale=source_amp)\n",
    "simulation_wg.setup_modes()\n",
    "\n",
    "# compute normalization\n",
    "sim_out = Simulation(omega, eps_r_wg, dl, NPML, 'Ez')\n",
    "sim_out.add_mode(np.sqrt(eps_m), 'x', [-NPML[0]-int(l/2/dl), ny], int(Ny/3))\n",
    "sim_out.setup_modes()\n",
    "J_out = np.abs(sim_out.src)\n",
    "(_, _, Ez_wg) = simulation_wg.solve_fields()\n",
    "SCALE = np.sum(np.square(np.abs(Ez_wg))*J_out)\n",
    "J_out = J_out/SCALE\n",
    "print('computed a scale of {} in units of E^2 J_out'.format(SCALE))"
   ]
  },
  {
   "cell_type": "code",
   "execution_count": 9,
   "metadata": {
    "collapsed": true
   },
   "outputs": [
    {
     "data": {
      "image/png": "[encoded data removed]",
      "text/plain": [
       "<Figure size 432x288 with 2 Axes>"
      ]
     },
     "metadata": {},
     "output_type": "display_data"
    }
   ],
   "source": [
    "# changes design region. 'style' can be in {'full', 'empty', 'halfway', 'random'}\n",
    "simulation.init_design_region(design_region, eps_m, style='')\n",
    "simulation.plt_eps()\n",
    "plt.show()"
   ]
  },
  {
   "cell_type": "code",
   "execution_count": 10,
   "metadata": {},
   "outputs": [],
   "source": [
    "# add nonlinearity\n",
    "nl_region = copy.deepcopy(design_region)\n",
    "\n",
    "simulation.nonlinearity = []  # This is needed in case you re-run this cell, for example (or you can re-initialize simulation every time)\n",
    "simulation.add_nl(chi3, nl_region, eps_scale=True, eps_max=eps_m)"
   ]
  },
  {
   "cell_type": "code",
   "execution_count": 11,
   "metadata": {},
   "outputs": [],
   "source": [
    "# define objective function\n",
    "import autograd.numpy as npa\n",
    "def J(e, e_nl):\n",
    "    linear_out =     1*npa.sum(npa.square(npa.abs(e))*J_out)\n",
    "    nonlinear_out = -1*npa.sum(npa.square(npa.abs(e_nl))*J_out)\n",
    "    return linear_out + nonlinear_out"
   ]
  },
  {
   "cell_type": "code",
   "execution_count": 12,
   "metadata": {},
   "outputs": [],
   "source": [
    "# make optimization object and check derivatives\n",
    "R = 2   # filter radius of curvature (pixels)  (takes a while to set up as R > 5-10)\n",
    "beta = 10\n",
    "eta= 0.5\n",
    "simulation.init_design_region(design_region, eps_m, style='')\n",
    "optimization = Optimization(J=J, simulation=simulation, design_region=design_region, eps_m=eps_m, R=R, beta=beta, eta=eta)"
   ]
  },
  {
   "cell_type": "code",
   "execution_count": 13,
   "metadata": {},
   "outputs": [
    {
     "data": {
      "image/png": "[encoded data removed]",
      "text/plain": [
       "<Figure size 432x288 with 2 Axes>"
      ]
     },
     "metadata": {},
     "output_type": "display_data"
    }
   ],
   "source": [
    "plt.imshow(simulation.rho.T)\n",
    "plt.colorbar()\n",
    "plt.show()"
   ]
  },
  {
   "cell_type": "code",
   "execution_count": 14,
   "metadata": {},
   "outputs": [
    {
     "name": "stdout",
     "output_type": "stream",
     "text": [
      "adjoint gradient   = [-2.475028419955135e-09, 1.6977636397712023e-08, 4.7585672117232247e-11, 1.1041874397302121e-08, 1.2266027726044094e-07]\n",
      "numerical gradient = [-2.580602398438714e-09, 1.552580286556804e-08, 3.375077994860476e-11, 1.0073497591633895e-08, 1.1453038517572622e-07]\n"
     ]
    }
   ],
   "source": [
    "# check the derivatives (note, full derivatives are checked, linear and nonlinear no longer separate)\n",
    "(grad_avm, grad_num) = optimization.check_deriv(Npts=5, d_rho=5e-4)\n",
    "print('adjoint gradient   = {}\\nnumerical gradient = {}'.format(grad_avm, grad_num))"
   ]
  },
  {
   "cell_type": "code",
   "execution_count": null,
   "metadata": {},
   "outputs": [
    {
     "name": "stderr",
     "output_type": "stream",
     "text": [
      " ObjectiveFn:  0.146 Iteration:  66/100 ETA:   0:01:39                         "
     ]
    }
   ],
   "source": [
    "new_eps = optimization.run(method='adam', Nsteps=100, step_size=1e-3)"
   ]
  },
  {
   "cell_type": "code",
   "execution_count": 24,
   "metadata": {},
   "outputs": [
    {
     "data": {
      "image/png": "[encoded data removed]",
      "text/plain": [
       "<Figure size 1152x360 with 3 Axes>"
      ]
     },
     "metadata": {},
     "output_type": "display_data"
    }
   ],
   "source": [
    "f, (ax1, ax2) = plt.subplots(1, 2, figsize=(16,5))\n",
    "simulation.plt_eps(ax=ax1, outline=False)\n",
    "ax1.set_title('final permittivity distribution')\n",
    "optimization.plt_objs(ax=ax2)\n",
    "ax2.set_yscale('linear')\n",
    "plt.show()"
   ]
  },
  {
   "cell_type": "code",
   "execution_count": null,
   "metadata": {},
   "outputs": [],
   "source": [
    "# compare the linear and nonlinear fields\n",
    "\n",
    "# setup subplots\n",
    "f, (ax1, ax2, ax3) = plt.subplots(1,3, figsize=(20,5))\n",
    "\n",
    "# linear fields\n",
    "(Hx,Hy,Ez) = simulation.solve_fields()\n",
    "simulation.plt_abs(ax=ax1, vmax=None)\n",
    "ax1.set_title('linear field')\n",
    "\n",
    "# nonlinear fields\n",
    "(Hx_nl,Hy_nl,Ez_nl,_) = simulation.solve_fields_nl()\n",
    "simulation.plt_abs(ax=ax2, vmax=None, nl=True)\n",
    "ax2.set_title('nonlinear field')\n",
    "\n",
    "# difference\n",
    "simulation.plt_diff(ax=ax3)\n",
    "ax3.set_title('|Ez| for linear - nonlinear')\n",
    "\n",
    "plt.show()"
   ]
  },
  {
   "cell_type": "code",
   "execution_count": null,
   "metadata": {},
   "outputs": [],
   "source": [
    "# compute the refractive index shift\n",
    "index_shift = simulation.compute_index_shift()\n",
    "print('maximum refractive index shift of {}'.format(np.max(index_shift)))\n",
    "plt.imshow(index_shift.T, cmap='magma', origin='lower')\n",
    "plt.colorbar()\n",
    "plt.title('refractive index shift')\n",
    "plt.show()"
   ]
  },
  {
   "cell_type": "code",
   "execution_count": null,
   "metadata": {},
   "outputs": [],
   "source": [
    "# compute powers\n",
    "\n",
    "# input power\n",
    "W_in = simulation.W_in\n",
    "\n",
    "# linear powers\n",
    "(Hx,Hy,Ez) = simulation.solve_fields()\n",
    "W_out_lin = simulation.flux_probe('x', [-NPML[0]-int(l/2/dl), ny], int(Ny/2))\n",
    "W_in_lin = simulation.flux_probe('x', [NPML[0]+int(2*l/3/dl), ny], int(Ny/2))\n",
    "\n",
    "T_lin = W_out_lin/W_in\n",
    "\n",
    "# nonlinear powers\n",
    "(Hx_nl,Hy_nl,Ez_nl,_) = simulation.solve_fields_nl()\n",
    "W_out_nl = simulation.flux_probe('x', [-NPML[0]-int(l/2/dl), ny], int(Ny/2))\n",
    "W_in_nl = simulation.flux_probe('x', [NPML[0]+int(2*l/3/dl), ny], int(Ny/2))\n",
    "\n",
    "T_nl = W_out_nl/W_in\n",
    "\n",
    "print('linear transmission              = {:.4f}'.format(T_lin))\n",
    "print('nonlinear transmission           = {:.4f}\\n'.format(T_nl))\n",
    "print('relative power difference        = {:.2f} %'.format(100*abs(W_out_lin-W_out_nl)/W_out_lin))\n",
    "print('relative transmission difference = {:.2f} %'.format(100*abs(T_lin-T_nl)/T_lin))\n"
   ]
  },
  {
   "cell_type": "code",
   "execution_count": null,
   "metadata": {},
   "outputs": [],
   "source": [
    "freqs, objs, FWHM = optimization.scan_frequency(Nf=200, df=1/400)\n",
    "optimization.simulation.omega = omega\n",
    "plt.plot([(f-150e12)/1e9 for f in freqs], objs)\n",
    "plt.xlabel('frequency difference (GHz)')\n",
    "plt.ylabel('objective function')\n",
    "plt.show()\n",
    "print('computed FWHM of {} (GHz):'.format(FWHM/1e9))\n",
    "print('Q factor of {0:.2E}'.format(omega/2/np.pi/FWHM))"
   ]
  },
  {
   "cell_type": "code",
   "execution_count": null,
   "metadata": {},
   "outputs": [],
   "source": [
    "np.save('../data/figs/data1/2port_eps', simulation.eps_r)\n",
    "np.save('../data/figs/data1/2port_objfn_list', optimization.objfn_list)\n",
    "np.save('../data/figs/data1/2port_freqs', freqs)\n",
    "np.save('../data/figs/data1/2port_objs', objs)\n"
   ]
  },
  {
   "cell_type": "code",
   "execution_count": null,
   "metadata": {},
   "outputs": [],
   "source": []
  }
 ],
 "metadata": {
  "anaconda-cloud": {},
  "kernelspec": {
   "display_name": "Python 3",
   "language": "python",
   "name": "python3"
  },
  "language_info": {
   "codemirror_mode": {
    "name": "ipython",
    "version": 3
   },
   "file_extension": ".py",
   "mimetype": "text/x-python",
   "name": "python",
   "nbconvert_exporter": "python",
   "pygments_lexer": "ipython3",
   "version": "3.6.4"
  }
 },
 "nbformat": 4,
 "nbformat_minor": 2
}
