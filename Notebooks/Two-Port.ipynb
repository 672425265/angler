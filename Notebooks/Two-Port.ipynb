{
 "cells": [
  {
   "cell_type": "code",
   "execution_count": 1,
   "metadata": {
    "collapsed": false
   },
   "outputs": [],
   "source": [
    "from fdfdpy import Simulation\n",
    "\n",
    "import sys\n",
    "sys.path.append(\"..\")\n",
    "\n",
    "from optimization import Optimization\n",
    "from structures import two_port\n",
    "\n",
    "import numpy as np\n",
    "import matplotlib.pylab as plt\n",
    "import scipy.sparse as sp\n",
    "\n",
    "%load_ext autoreload\n",
    "%autoreload 2\n",
    "%matplotlib inline"
   ]
  },
  {
   "cell_type": "code",
   "execution_count": 20,
   "metadata": {
    "collapsed": true
   },
   "outputs": [],
   "source": [
    "# fundamental constants and simulation parameters\n",
    "lambda0 = 2e-6              # free space wavelength (m)\n",
    "c0 = 3e8                    # speed of light in vacuum (m/s)\n",
    "omega = 2*np.pi*c0/lambda0  # angular frequency (2pi/s)\n",
    "dl = 2e-1                   # grid size (L0)\n",
    "NPML = [15, 15]             # number of pml grid points on x and y borders\n",
    "pol = 'Ez'                  # polarization (either 'Hz' or 'Ez')\n",
    "source_amp = 10              # amplitude of modal source (A/L0^2?)"
   ]
  },
  {
   "cell_type": "code",
   "execution_count": 37,
   "metadata": {
    "collapsed": true
   },
   "outputs": [],
   "source": [
    "# material constants\n",
    "n_index = 2.44              # refractive index\n",
    "eps_m = n_index**2          # relative permittivity\n",
    "chi3 = 4.1*1e-19            # Al2S3 from Boyd (m^2/V^2)\n",
    "max_ind_shift = 6e-3      # maximum allowed nonlinear refractive index shift (computed from damage threshold)"
   ]
  },
  {
   "cell_type": "code",
   "execution_count": 117,
   "metadata": {
    "collapsed": true
   },
   "outputs": [],
   "source": [
    "# geometric parameters\n",
    "L = 20         # length of design region (L0)\n",
    "H = 5         # height of design region (L0)\n",
    "w = 0.2        # width of waveguides (L0)\n",
    "l = 2         # length of waveguide from PML to design region (L0)\n",
    "spc = 1     # space between box and PML (L0)"
   ]
  },
  {
   "cell_type": "code",
   "execution_count": 118,
   "metadata": {
    "collapsed": false
   },
   "outputs": [
    {
     "name": "stdout",
     "output_type": "stream",
     "text": [
      "Computed a domain with 150 grids in x and 65 grids in y\n",
      "The simulation has 10 grids per free space wavelength\n"
     ]
    },
    {
     "data": {
      "image/png": "[encoded data removed]",
      "text/plain": [
       "<Figure size 432x288 with 2 Axes>"
      ]
     },
     "metadata": {},
     "output_type": "display_data"
    }
   ],
   "source": [
    "# define permittivity of three port system\n",
    "eps_r, design_region = two_port(L, H, w, l, spc, dl, NPML, eps_start=eps_m)\n",
    "(Nx, Ny) = eps_r.shape\n",
    "nx, ny = int(Nx/2), int(Ny/2)            # halfway grid points\n",
    "\n",
    "simulation = Simulation(omega, eps_r, dl, NPML, pol)\n",
    "# compute the grid size the total grid size\n",
    "print(\"Computed a domain with {} grids in x and {} grids in y\".format(Nx,Ny))\n",
    "print(\"The simulation has {} grids per free space wavelength\".format(int(lambda0/dl/simulation.L0)))\n",
    "simulation.plt_eps()\n",
    "plt.show()"
   ]
  },
  {
   "cell_type": "code",
   "execution_count": 119,
   "metadata": {
    "collapsed": false
   },
   "outputs": [
    {
     "name": "stdout",
     "output_type": "stream",
     "text": [
      "Calculate an input power of 10.42267727457564 Watts/L0\n"
     ]
    }
   ],
   "source": [
    "# set the modal source and probes\n",
    "simulation = Simulation(omega, eps_r, dl, NPML, 'Ez')\n",
    "simulation.add_mode(np.sqrt(eps_m), 'x', [NPML[0]+int(l/2/dl), ny], int(H/2/dl), scale=source_amp)\n",
    "simulation.setup_modes()\n",
    "print('Calculate an input power of {} Watts/L0'.format(simulation.W_in))\n",
    "\n",
    "# out modal profile\n",
    "sim_out = Simulation(omega, eps_r, dl, NPML, 'Ez')\n",
    "sim_out.add_mode(np.sqrt(eps_m), 'x', [-NPML[0]-int(l/2/dl), ny], int(H/2/dl))\n",
    "sim_out.setup_modes()\n",
    "J_out = np.abs(sim_out.src)\n",
    "\n",
    "# out modal profile\n",
    "sim_in = Simulation(omega, eps_r, dl, NPML, 'Ez')\n",
    "sim_in.add_mode(np.sqrt(eps_m), 'x', [NPML[0]+int(l*2/3/dl), ny], int(H/2/dl))\n",
    "sim_in.setup_modes()\n",
    "J_in = np.abs(sim_in.src)"
   ]
  },
  {
   "cell_type": "code",
   "execution_count": 120,
   "metadata": {
    "collapsed": false
   },
   "outputs": [
    {
     "data": {
      "image/png": "[encoded data removed]",
      "text/plain": [
       "<Figure size 432x288 with 2 Axes>"
      ]
     },
     "metadata": {},
     "output_type": "display_data"
    }
   ],
   "source": [
    "# set source and solve for electromagnetic fields\n",
    "(Hx,Hy,Ez) = simulation.solve_fields()\n",
    "simulation.plt_abs(outline=True, cbar=True);"
   ]
  },
  {
   "cell_type": "code",
   "execution_count": 121,
   "metadata": {},
   "outputs": [],
   "source": [
    "chi3 = 2.8*1e-18                           # Silcion in m^2/V^2 from Boyd's book\n",
    "import copy\n",
    "nl_region = copy.deepcopy(design_region)\n",
    "\n",
    "simulation.nonlinearity = []  # This is needed in case you re-run this cell, for example (or you can re-initialize simulation every time)\n",
    "simulation.add_nl(chi3, nl_region, eps_scale=True, eps_max=eps_m)"
   ]
  },
  {
   "cell_type": "markdown",
   "metadata": {},
   "source": [
    "## Both Linear and Nonlinear"
   ]
  },
  {
   "cell_type": "code",
   "execution_count": 122,
   "metadata": {
    "collapsed": true
   },
   "outputs": [],
   "source": [
    "# define linear and nonlinear parts of objective function + the total objective function form\n",
    "J = {}\n",
    "J['linear']    = lambda e, eps_r:  np.sum(np.square(np.abs(e))*J_out) / np.sum(np.square(np.abs(e))) \n",
    "J['nonlinear'] = lambda e, eps_r: -np.sum(np.square(np.abs(e))*J_out) / np.sum(np.square(np.abs(e))) \n",
    "J['total']     = lambda J_lin, J_nonlin: J_lin + J_nonlin\n",
    "\n",
    "# define linear and nonlinear parts of dJdE + the total derivative form\n",
    "dJ = {}\n",
    "dJ['dE_linear']    = lambda e, eps_r:  np.conj(e)*J_out / np.sum(np.square(np.abs(e))*J_in) \\\n",
    "                                     - np.sum(np.square(np.abs(e))*J_out) / np.sum(np.square(np.abs(e))*J_in) * 1/e\n",
    "dJ['dE_nonlinear'] = lambda e, eps_r:- np.conj(e)*J_out / np.sum(np.square(np.abs(e))*J_in) \\\n",
    "                                     - np.sum(np.square(np.abs(e))*J_out) / np.sum(np.square(np.abs(e))*J_in) * 1/e\n",
    "dJ['total']     = lambda J_lin, J_nonlin, dJ_lin, dJ_nonlin: dJ_lin + dJ_nonlin\n"
   ]
  },
  {
   "cell_type": "code",
   "execution_count": 123,
   "metadata": {},
   "outputs": [],
   "source": [
    "# define linear and nonlinear parts of objective function + the total objective function form\n",
    "import autograd.numpy as np\n",
    "from autograd import grad\n",
    "import functools\n",
    "\n",
    "# def J_full(e, e_nl, eps_r):\n",
    "#     return   np.sum(np.abs(e * np.conj(e))*J_out) \\\n",
    "#            - np.sum(np.abs(e_nl * np.conj(e))*J_out)\n",
    "\n",
    "J = {}\n",
    "J['linear']    = lambda e, eps_r:  np.divide( np.sum(np.abs(e * np.conj(e))*J_out), np.sum(np.abs(e * np.conj(e))) ) \n",
    "J['nonlinear'] = lambda e, eps_r: -np.divide( np.sum(np.abs(e * np.conj(e))*J_out), np.sum(np.abs(e * np.conj(e))) )\n",
    "J = {}\n",
    "J['linear']    = lambda e, eps_r: np.sum(np.abs(e * np.conj(e))*J_out)\n",
    "J['nonlinear'] = lambda e, eps_r: - np.sum(np.abs(e * np.conj(e))*J_out)\n",
    "J['total']     = lambda J_lin, J_nonlin: J_lin + J_nonlin\n",
    "\n",
    "# define linear and nonlinear parts of dJdE + the total derivative form\n",
    "dJ = {}\n",
    "dJ['dE_linear']    = grad(J['linear'], 0)\n",
    "dJ['dE_nonlinear'] = grad(J['nonlinear'], 0)\n",
    "dJ['total']        = lambda J_lin, J_nonlin, dJ_lin, dJ_nonlin: dJ_lin + dJ_nonlin\n"
   ]
  },
  {
   "cell_type": "code",
   "execution_count": null,
   "metadata": {
    "collapsed": false
   },
   "outputs": [
    {
     "name": "stdout",
     "output_type": "stream",
     "text": [
      "linear:\n",
      "\tadjoint gradient   = [1.514139732241668e-07, 9.022494727718318e-09, 5.437149317687553e-08, 6.758591934954173e-09, -4.24274515684518e-08]\n",
      "\tnumerical gradient = [7.570534477086e-08, 4.515346430089551e-09, 2.717402691754245e-08, 3.2664843052643278e-09, -2.1216292611647702e-08]\n",
      "nonlinear:\n",
      "\tadjoint gradient   = [1.0339975373536086e-05, -2.0694072594851396e-09, 1.4376655152062214e-06, -3.287676117293685e-08, -6.297944263340463e-07]\n",
      "\tnumerical gradient = [5.1709062032223585e-06, -1.0423606422449438e-09, 7.195489343247985e-07, -1.6436574323819286e-08, -3.1420720192354423e-07]\n"
     ]
    }
   ],
   "source": [
    "# optimization parameters\n",
    "Nsteps =  10000\n",
    "step_size = 0.001\n",
    "solver = 'newton'\n",
    "opt_method = 'adam'\n",
    "\n",
    "# initialize an optimization object with the above parameters and objective function information\n",
    "simulation.eps_r = eps_r\n",
    "optimization = Optimization(Nsteps=Nsteps, J=J, dJ=dJ, eps_max=eps_m, step_size=step_size,\n",
    "                            solver=solver, opt_method=opt_method, max_ind_shift=max_ind_shift)\n",
    "\n",
    "# check the derivatives\n",
    "(grad_avm, grad_num) = optimization.check_deriv_lin(simulation, design_region)\n",
    "print('linear:\\n\\tadjoint gradient   = {}\\n\\tnumerical gradient = {}'.format(grad_avm, grad_num))\n",
    "(grad_avm, grad_num) = optimization.check_deriv_nonlin(simulation, design_region)\n",
    "print('nonlinear:\\n\\tadjoint gradient   = {}\\n\\tnumerical gradient = {}'.format(grad_avm, grad_num))"
   ]
  },
  {
   "cell_type": "code",
   "execution_count": null,
   "metadata": {
    "collapsed": false
   },
   "outputs": [
    {
     "name": "stderr",
     "output_type": "stream",
     "text": [
      " 25% (2513 of 10000) |####               | Elapsed Time: 0:24:57 ETA:   1:14:39"
     ]
    }
   ],
   "source": [
    "# run the optimization with the simulation and the region and nonlinearity information\n",
    "new_eps = optimization.run(simulation, design_region)"
   ]
  },
  {
   "cell_type": "code",
   "execution_count": null,
   "metadata": {
    "collapsed": false
   },
   "outputs": [],
   "source": [
    "# plot optimization results\n",
    "f, (ax1, ax2) = plt.subplots(1, 2, figsize=(16,5))\n",
    "\n",
    "simulation.plt_eps(ax=ax1)\n",
    "ax1.set_title('final permittivity distribution')\n",
    "\n",
    "optimization.plt_objs(ax=ax2)\n",
    "ax2.set_yscale('log')\n",
    "plt.show()"
   ]
  },
  {
   "cell_type": "code",
   "execution_count": null,
   "metadata": {
    "collapsed": false
   },
   "outputs": [],
   "source": [
    "# compare the linear and nonlinear fields\n",
    "\n",
    "# simulation.eps_r = new_eps\n",
    "\n",
    "# setup subplots\n",
    "f, (ax1, ax2, ax3) = plt.subplots(1,3, figsize=(20,5))\n",
    "\n",
    "# linear fields\n",
    "(Hx,Hy,Ez) = simulation.solve_fields()\n",
    "simulation.plt_abs(ax=ax1, vmax=None)\n",
    "ax1.set_title('linear field')\n",
    "\n",
    "# nonlinear fields\n",
    "(Hx_nl,Hy_nl,Ez_nl,_) = simulation.solve_fields_nl()\n",
    "simulation.plt_abs(ax=ax2, vmax=None)\n",
    "ax2.set_title('nonlinear field')\n",
    "\n",
    "# difference\n",
    "difference = np.abs(Ez).T - np.abs(Ez_nl).T\n",
    "im = plt.imshow(difference, vmin=-np.max(difference), vmax=np.max(difference), cmap='RdYlBu', origin='lower')\n",
    "f.colorbar(im, ax=ax3)\n",
    "ax3.set_title('|Ez| for linear - nonlinear')\n",
    "\n",
    "plt.show()"
   ]
  },
  {
   "cell_type": "code",
   "execution_count": null,
   "metadata": {
    "collapsed": false
   },
   "outputs": [],
   "source": [
    "# compute the refractive index shift\n",
    "index_shift = optimization.compute_index_shift(simulation)\n",
    "print('maximum refractive index shift of {}'.format(np.max(index_shift)))\n",
    "plt.imshow(index_shift.T, cmap='magma')\n",
    "plt.colorbar()\n",
    "plt.title('refractive index shift')\n",
    "plt.show()"
   ]
  },
  {
   "cell_type": "code",
   "execution_count": null,
   "metadata": {},
   "outputs": [],
   "source": [
    "freqs, objs, FWHM = optimization.scan_frequency(Nf=50, df=1/20)\n",
    "optimization.simulation.omega = omega\n",
    "plt.plot([f/1e12 for f in freqs], objs)\n",
    "plt.xlabel('frequency (Hz)')\n",
    "plt.ylabel('objective function')\n",
    "plt.show()"
   ]
  },
  {
   "cell_type": "code",
   "execution_count": null,
   "metadata": {},
   "outputs": [],
   "source": [
    "print('computed FWHM of {} (THz):'.format(FWHM/1e12))\n"
   ]
  },
  {
   "cell_type": "code",
   "execution_count": null,
   "metadata": {
    "collapsed": true
   },
   "outputs": [],
   "source": [
    "# compute powers\n",
    "\n",
    "# input power\n",
    "W_in = simulation.W_in\n",
    "\n",
    "# linear powers\n",
    "(Hx,Hy,Ez) = simulation.solve_fields()\n",
    "W_top_lin = simulation.flux_probe('x', [-NPML[0]-int(l/2/dl), ny+int(d/2/dl)], int(d/2/dl))\n",
    "W_bot_lin = simulation.flux_probe('x', [-NPML[0]-int(l/2/dl), ny-int(d/2/dl)], int(d/2/dl))\n",
    "W_in_lin = simulation.flux_probe('x', [NPML[0]+int(l/2/dl), ny], int(d/dl))\n",
    "\n",
    "# nonlinear powers\n",
    "(Hx_nl,Hy_nl,Ez_nl,_) = simulation.solve_fields_nl(nonlin_fns['eps_nl'], regions['nonlin'],\n",
    "                                                   dnl_de=kerr_nl_de,solver_nl='newton')\n",
    "W_top_nl = simulation.flux_probe('x', [-NPML[0]-int(l/2/dl), ny+int(d/2/dl)], int(d/2/dl))\n",
    "W_bot_nl = simulation.flux_probe('x', [-NPML[0]-int(l/2/dl), ny-int(d/2/dl)], int(d/2/dl))\n",
    "W_in_nl = simulation.flux_probe('x', [NPML[0]+int(l/2/dl), ny], int(d/dl))"
   ]
  },
  {
   "cell_type": "code",
   "execution_count": null,
   "metadata": {
    "collapsed": false
   },
   "outputs": [],
   "source": [
    "# compute and plot S-matrix\n",
    "S = np.array([[W_top_lin, W_bot_lin]/W_in,[W_top_nl, W_bot_nl]/W_in])\n",
    "plt.imshow(S, cmap='magma')\n",
    "plt.colorbar()\n",
    "plt.xticks([0,1], ['top','bot'])\n",
    "plt.yticks([0,1], ['linear','nonlinear'])\n",
    "plt.title('normalized power')\n",
    "plt.show()\n",
    "print(\"S-matrix = \\n{}\".format(S))"
   ]
  },
  {
   "cell_type": "code",
   "execution_count": null,
   "metadata": {
    "collapsed": true
   },
   "outputs": [],
   "source": [
    "# save this nice permittivity to a file\n",
    "# np.save('../data/eps_good', new_eps)\n",
    "\n",
    "# eps_saved = np.load('../data/eps_good.npy')\n",
    "\n",
    "# eps_saved[design_region == 0] = eps_r[design_region==0]\n",
    "# simulation.reset_eps(eps_saved)"
   ]
  },
  {
   "cell_type": "code",
   "execution_count": null,
   "metadata": {
    "collapsed": true
   },
   "outputs": [],
   "source": []
  },
  {
   "cell_type": "code",
   "execution_count": null,
   "metadata": {},
   "outputs": [],
   "source": []
  },
  {
   "cell_type": "code",
   "execution_count": null,
   "metadata": {},
   "outputs": [],
   "source": []
  }
 ],
 "metadata": {
  "anaconda-cloud": {},
  "kernelspec": {
   "display_name": "Python 3",
   "language": "python",
   "name": "python3"
  },
  "language_info": {
   "codemirror_mode": {
    "name": "ipython",
    "version": 3
   },
   "file_extension": ".py",
   "mimetype": "text/x-python",
   "name": "python",
   "nbconvert_exporter": "python",
   "pygments_lexer": "ipython3",
   "version": "3.6.4"
  }
 },
 "nbformat": 4,
 "nbformat_minor": 2
}
