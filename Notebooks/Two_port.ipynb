{
 "cells": [
  {
   "cell_type": "code",
   "execution_count": 1,
   "metadata": {
    "collapsed": false
   },
   "outputs": [],
   "source": [
    "from fdfdpy import Simulation\n",
    "\n",
    "import sys\n",
    "sys.path.append(\"..\")\n",
    "\n",
    "from optimization import Optimization\n",
    "from structures import two_port\n",
    "\n",
    "import numpy as np\n",
    "import matplotlib.pylab as plt\n",
    "import scipy.sparse as sp\n",
    "\n",
    "%load_ext autoreload\n",
    "%autoreload 2\n",
    "%matplotlib inline"
   ]
  },
  {
   "cell_type": "code",
   "execution_count": 2,
   "metadata": {
    "collapsed": true
   },
   "outputs": [],
   "source": [
    "# fundamental constants and simulation parameters\n",
    "lambda0 = 2e-6              # free space wavelength (m)\n",
    "c0 = 3e8                    # speed of light in vacuum (m/s)\n",
    "omega = 2*np.pi*c0/lambda0  # angular frequency (2pi/s)\n",
    "dl = 2e-1                   # grid size (L0)\n",
    "NPML = [15, 15]             # number of pml grid points on x and y borders\n",
    "pol = 'Ez'                  # polarization (either 'Hz' or 'Ez')\n",
    "source_amp = 2              # amplitude of modal source (A/L0^2?)"
   ]
  },
  {
   "cell_type": "code",
   "execution_count": 3,
   "metadata": {
    "collapsed": true
   },
   "outputs": [],
   "source": [
    "# material constants\n",
    "n_index = 2.44              # refractive index\n",
    "eps_m = n_index**2          # relative permittivity\n",
    "chi3 = 4.1*1e-19            # Al2S3 from Boyd (m^2/V^2)\n",
    "max_ind_shift = 6e-3      # maximum allowed nonlinear refractive index shift (computed from damage threshold)"
   ]
  },
  {
   "cell_type": "code",
   "execution_count": 91,
   "metadata": {
    "collapsed": true
   },
   "outputs": [],
   "source": [
    "# geometric parameters\n",
    "L = 50         # length of design region (L0)\n",
    "H = 5         # height of design region (L0)\n",
    "w = 0.5        # width of waveguides (L0)\n",
    "l = 4         # length of waveguide from PML to design region (L0)\n",
    "spc = 5     # space between box and PML (L0)"
   ]
  },
  {
   "cell_type": "code",
   "execution_count": 92,
   "metadata": {
    "collapsed": false
   },
   "outputs": [
    {
     "name": "stdout",
     "output_type": "stream",
     "text": [
      "Computed a domain with 320 grids in x and 105 grids in y\n",
      "The simulation has 10 grids per free space wavelength\n"
     ]
    },
    {
     "data": {
      "image/png": "[encoded data removed]",
      "text/plain": [
       "<Figure size 432x288 with 2 Axes>"
      ]
     },
     "metadata": {},
     "output_type": "display_data"
    }
   ],
   "source": [
    "# define permittivity of three port system\n",
    "eps_r, design_region = two_port(L, H, w, l, spc, dl, NPML, eps_start=eps_m)\n",
    "(Nx, Ny) = eps_r.shape\n",
    "nx, ny = int(Nx/2), int(Ny/2)            # halfway grid points\n",
    "\n",
    "simulation = Simulation(omega, eps_r, dl, NPML, pol)\n",
    "# compute the grid size the total grid size\n",
    "print(\"Computed a domain with {} grids in x and {} grids in y\".format(Nx,Ny))\n",
    "print(\"The simulation has {} grids per free space wavelength\".format(int(lambda0/dl/simulation.L0)))\n",
    "simulation.plt_eps()\n",
    "plt.show()"
   ]
  },
  {
   "cell_type": "code",
   "execution_count": 93,
   "metadata": {
    "collapsed": false
   },
   "outputs": [
    {
     "name": "stdout",
     "output_type": "stream",
     "text": [
      "Calculate an input power of 0.0325556110996008 Watts/L0\n"
     ]
    }
   ],
   "source": [
    "# set the modal source and probes\n",
    "simulation = Simulation(omega, eps_r, dl, NPML, 'Ez')\n",
    "simulation.add_mode(np.sqrt(eps_m), 'x', [NPML[0]+int(l/2/dl), ny], int(Ny/4), scale=source_amp)\n",
    "simulation.setup_modes()\n",
    "print('Calculate an input power of {} Watts/L0'.format(simulation.W_in))\n",
    "\n",
    "# out modal profile\n",
    "sim_out = Simulation(omega, eps_r, dl, NPML, 'Ez')\n",
    "sim_out.add_mode(np.sqrt(eps_m), 'x', [-NPML[0]-int(l/2/dl), ny], int(Ny/4))\n",
    "sim_out.setup_modes()\n",
    "J_out = np.abs(sim_out.src)\n",
    "\n",
    "# in modal profile\n",
    "sim_in = Simulation(omega, eps_r, dl, NPML, 'Ez')\n",
    "sim_in.add_mode(np.sqrt(eps_m), 'x', [NPML[0]+int(l*2/3/dl), ny], int(Ny/4))\n",
    "sim_in.setup_modes()\n",
    "J_in = np.abs(sim_in.src)"
   ]
  },
  {
   "cell_type": "code",
   "execution_count": 94,
   "metadata": {
    "collapsed": false
   },
   "outputs": [
    {
     "data": {
      "image/png": "[encoded data removed]",
      "text/plain": [
       "<Figure size 432x288 with 2 Axes>"
      ]
     },
     "metadata": {},
     "output_type": "display_data"
    }
   ],
   "source": [
    "# set source and solve for electromagnetic fields\n",
    "(Hx,Hy,Ez) = simulation.solve_fields()\n",
    "simulation.plt_abs(outline=True, cbar=True);"
   ]
  },
  {
   "cell_type": "code",
   "execution_count": 95,
   "metadata": {},
   "outputs": [],
   "source": [
    "chi3 = 2.8*1e-18                           # Silcion in m^2/V^2 from Boyd's book\n",
    "import copy\n",
    "nl_region = copy.deepcopy(design_region)\n",
    "\n",
    "simulation.nonlinearity = []  # This is needed in case you re-run this cell, for example (or you can re-initialize simulation every time)\n",
    "simulation.add_nl(chi3, nl_region, eps_scale=True, eps_max=eps_m)"
   ]
  },
  {
   "cell_type": "markdown",
   "metadata": {},
   "source": [
    "## Both Linear and Nonlinear"
   ]
  },
  {
   "cell_type": "code",
   "execution_count": 96,
   "metadata": {
    "collapsed": true
   },
   "outputs": [],
   "source": [
    "# define linear and nonlinear parts of objective function + the total objective function form\n",
    "J = {}\n",
    "J['linear']    = lambda e, eps_r:  np.sum(np.square(np.abs(e))*J_out) / np.sum(np.square(np.abs(e))) \n",
    "J['nonlinear'] = lambda e, eps_r: -np.sum(np.square(np.abs(e))*J_out) / np.sum(np.square(np.abs(e))) \n",
    "J['total']     = lambda J_lin, J_nonlin: J_lin + J_nonlin\n",
    "\n",
    "# define linear and nonlinear parts of dJdE + the total derivative form\n",
    "dJ = {}\n",
    "dJ['dE_linear']    = lambda e, eps_r:  np.conj(e)*J_out / np.sum(np.square(np.abs(e))*J_in) \\\n",
    "                                     - np.sum(np.square(np.abs(e))*J_out) / np.sum(np.square(np.abs(e))*J_in) * 1/e\n",
    "dJ['dE_nonlinear'] = lambda e, eps_r:- np.conj(e)*J_out / np.sum(np.square(np.abs(e))*J_in) \\\n",
    "                                     - np.sum(np.square(np.abs(e))*J_out) / np.sum(np.square(np.abs(e))*J_in) * 1/e\n",
    "dJ['total']     = lambda J_lin, J_nonlin, dJ_lin, dJ_nonlin: dJ_lin + dJ_nonlin\n"
   ]
  },
  {
   "cell_type": "code",
   "execution_count": 97,
   "metadata": {},
   "outputs": [],
   "source": [
    "# define linear and nonlinear parts of objective function + the total objective function form\n",
    "import autograd.numpy as np\n",
    "from autograd import grad\n",
    "import functools\n",
    "\n",
    "J = {}\n",
    "J['linear']    = lambda e, eps_r:  np.sum(np.square(np.abs(e))*J_out)\n",
    "J['nonlinear'] = lambda e, eps_r:  -np.sum(np.square(np.abs(e))*J_out)\n",
    "J['total']     = lambda J_lin, J_nonlin: J_lin + J_nonlin\n",
    "\n",
    "# define linear and nonlinear parts of dJdE + the total derivative form\n",
    "dJ = {}\n",
    "dJ['dE_linear']    = grad(J['linear'], 0)\n",
    "dJ['dE_nonlinear'] = grad(J['nonlinear'], 0)\n",
    "# dJ['dE_linear']    = lambda e, eps_r: np.conj(e)*J_out\n",
    "# dJ['dE_nonlinear'] = lambda e, eps_r: -np.conj(e)*J_out\n",
    "dJ['total']        = lambda J_lin, J_nonlin, dJ_lin, dJ_nonlin: dJ_lin + dJ_nonlin\n"
   ]
  },
  {
   "cell_type": "code",
   "execution_count": 100,
   "metadata": {
    "collapsed": false
   },
   "outputs": [
    {
     "name": "stdout",
     "output_type": "stream",
     "text": [
      "differences: = \n",
      "[1.266722491410338e-06, 9.224565599539214e-07, 3.7506107612155247e-07, 3.37605634569073e-07, 2.88797685098701e-07]\n"
     ]
    }
   ],
   "source": [
    "# optimization parameters\n",
    "Nsteps =  205\n",
    "step_size = 3e1\n",
    "solver = 'newton'\n",
    "opt_method = 'descent'\n",
    "\n",
    "# initialize an optimization object with the above parameters and objective function information\n",
    "simulation.eps_r = eps_r\n",
    "optimization = Optimization(Nsteps=Nsteps, J=J, dJ=dJ, eps_max=eps_m, step_size=step_size,\n",
    "                            solver=solver, opt_method=opt_method, max_ind_shift=max_ind_shift)\n",
    "\n",
    "# check the derivatives\n",
    "(grad_avm, grad_num) = optimization.check_deriv_lin(simulation, design_region)\n",
    "(grad_avm, grad_num) = optimization.check_deriv_nonlin(simulation, design_region)\n",
    "print('differences: = \\n{}'.format([abs(a - 2*n) for a, n in zip(grad_avm, grad_num)]))\n"
   ]
  },
  {
   "cell_type": "code",
   "execution_count": 101,
   "metadata": {
    "collapsed": false
   },
   "outputs": [
    {
     "name": "stderr",
     "output_type": "stream",
     "text": [
      "100% (205 of 205) |######################| Elapsed Time: 0:06:58 ETA:  00:00:00"
     ]
    }
   ],
   "source": [
    "# run the optimization with the simulation and the region and nonlinearity information\n",
    "new_eps = optimization.run(simulation, design_region)"
   ]
  },
  {
   "cell_type": "code",
   "execution_count": 102,
   "metadata": {
    "collapsed": false
   },
   "outputs": [
    {
     "data": {
      "image/png": "[encoded data removed]",
      "text/plain": [
       "<Figure size 1152x360 with 3 Axes>"
      ]
     },
     "metadata": {},
     "output_type": "display_data"
    }
   ],
   "source": [
    "# plot optimization results\n",
    "f, (ax1, ax2) = plt.subplots(1, 2, figsize=(16,5))\n",
    "\n",
    "simulation.plt_eps(ax=ax1)\n",
    "ax1.set_title('final permittivity distribution')\n",
    "\n",
    "optimization.plt_objs(ax=ax2, scaled='W_in')\n",
    "ax2.set_yscale('log')\n",
    "plt.show()"
   ]
  },
  {
   "cell_type": "code",
   "execution_count": 103,
   "metadata": {
    "collapsed": false
   },
   "outputs": [
    {
     "data": {
      "image/png": "[encoded data removed]",
      "text/plain": [
       "<Figure size 1440x360 with 6 Axes>"
      ]
     },
     "metadata": {},
     "output_type": "display_data"
    }
   ],
   "source": [
    "# compare the linear and nonlinear fields\n",
    "\n",
    "# simulation.eps_r = new_eps\n",
    "\n",
    "# setup subplots\n",
    "f, (ax1, ax2, ax3) = plt.subplots(1,3, figsize=(20,5))\n",
    "\n",
    "# linear fields\n",
    "(Hx,Hy,Ez) = simulation.solve_fields()\n",
    "simulation.plt_abs(ax=ax1, vmax=None)\n",
    "ax1.set_title('linear field')\n",
    "\n",
    "# nonlinear fields\n",
    "(Hx_nl,Hy_nl,Ez_nl,_) = simulation.solve_fields_nl()\n",
    "simulation.plt_abs(ax=ax2, vmax=None)\n",
    "ax2.set_title('nonlinear field')\n",
    "\n",
    "# difference\n",
    "difference = np.abs(Ez.T - Ez_nl.T)\n",
    "im = plt.imshow(difference, vmin=-np.max(difference), vmax=np.max(difference), cmap='RdYlBu', origin='lower')\n",
    "f.colorbar(im, ax=ax3)\n",
    "ax3.set_title('|Ez| for linear - nonlinear')\n",
    "\n",
    "plt.show()"
   ]
  },
  {
   "cell_type": "code",
   "execution_count": null,
   "metadata": {
    "collapsed": false
   },
   "outputs": [
    {
     "name": "stdout",
     "output_type": "stream",
     "text": [
      "maximum refractive index shift of 0.005468425750004538\n"
     ]
    },
    {
     "data": {
      "image/png": "[encoded data removed]",
      "text/plain": [
       "<Figure size 432x288 with 2 Axes>"
      ]
     },
     "metadata": {},
     "output_type": "display_data"
    }
   ],
   "source": [
    "# compute the refractive index shift\n",
    "index_shift = optimization.compute_index_shift(simulation)\n",
    "print('maximum refractive index shift of {}'.format(np.max(index_shift)))\n",
    "plt.imshow(index_shift.T, cmap='magma')\n",
    "plt.colorbar()\n",
    "plt.title('refractive index shift')\n",
    "plt.show()"
   ]
  },
  {
   "cell_type": "code",
   "execution_count": null,
   "metadata": {},
   "outputs": [
    {
     "name": "stderr",
     "output_type": "stream",
     "text": [
      " 97% (195 of 200) |##################### | Elapsed Time: 0:03:25 ETA:   0:00:05"
     ]
    }
   ],
   "source": [
    "freqs, objs, FWHM = optimization.scan_frequency(Nf=200, df=1/20)\n",
    "optimization.simulation.omega = omega\n",
    "plt.plot([f/1e12 for f in freqs], objs)\n",
    "plt.xlabel('frequency (Hz)')\n",
    "plt.ylabel('objective function')\n",
    "plt.show()\n",
    "print('computed FWHM of {} (THz):'.format(FWHM/1e12))\n"
   ]
  },
  {
   "cell_type": "code",
   "execution_count": null,
   "metadata": {
    "collapsed": true
   },
   "outputs": [],
   "source": [
    "# compute powers\n",
    "\n",
    "# input power\n",
    "W_in = simulation.W_in\n",
    "\n",
    "# linear powers\n",
    "(Hx,Hy,Ez) = simulation.solve_fields()\n",
    "W_out_lin = simulation.flux_probe('x', [-NPML[0]-int(l/2/dl), ny], int(H/2/dl))\n",
    "W_in_lin = simulation.flux_probe('x', [NPML[0]+int(2*l/3/dl), ny], int(H/2/dl))\n",
    "\n",
    "T_lin = W_out_lin/W_in_lin\n",
    "\n",
    "# nonlinear powers\n",
    "(Hx_nl,Hy_nl,Ez_nl,_) = simulation.solve_fields_nl()\n",
    "W_out_nl = simulation.flux_probe('x', [-NPML[0]-int(l/2/dl), ny], int(H/2/dl))\n",
    "W_in_nl = simulation.flux_probe('x', [NPML[0]+int(2*l/3/dl), ny], int(H/2/dl))\n",
    "\n",
    "T_nl = W_out_nl/W_in_nl\n",
    "\n",
    "print('difference of {} %'.format(100*abs(W_out_lin-W_out_nl)/W_out_lin))\n",
    "print('linear transmission    = {}'.format(T_lin))\n",
    "print('nonlinear transmission = {}'.format(T_nl))\n",
    "print('difference of {} %'.format(100*abs(T_lin-T_nl)))\n"
   ]
  },
  {
   "cell_type": "code",
   "execution_count": null,
   "metadata": {},
   "outputs": [],
   "source": []
  },
  {
   "cell_type": "code",
   "execution_count": null,
   "metadata": {},
   "outputs": [],
   "source": []
  },
  {
   "cell_type": "code",
   "execution_count": null,
   "metadata": {},
   "outputs": [],
   "source": []
  }
 ],
 "metadata": {
  "anaconda-cloud": {},
  "kernelspec": {
   "display_name": "Python 3",
   "language": "python",
   "name": "python3"
  },
  "language_info": {
   "codemirror_mode": {
    "name": "ipython",
    "version": 3
   },
   "file_extension": ".py",
   "mimetype": "text/x-python",
   "name": "python",
   "nbconvert_exporter": "python",
   "pygments_lexer": "ipython3",
   "version": "3.6.4"
  }
 },
 "nbformat": 4,
 "nbformat_minor": 2
}
