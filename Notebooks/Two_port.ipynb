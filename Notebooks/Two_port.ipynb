{
 "cells": [
  {
   "cell_type": "code",
   "execution_count": 1,
   "metadata": {
    "collapsed": false
   },
   "outputs": [],
   "source": [
    "from fdfdpy import Simulation\n",
    "\n",
    "import sys\n",
    "sys.path.append(\"..\")\n",
    "\n",
    "from optimization import Optimization\n",
    "from structures import two_port\n",
    "\n",
    "import numpy as np\n",
    "import matplotlib.pylab as plt\n",
    "import scipy.sparse as sp\n",
    "\n",
    "%load_ext autoreload\n",
    "%autoreload 2\n",
    "%matplotlib inline"
   ]
  },
  {
   "cell_type": "code",
   "execution_count": 2,
   "metadata": {
    "collapsed": true
   },
   "outputs": [],
   "source": [
    "# fundamental constants and simulation parameters\n",
    "lambda0 = 2e-6              # free space wavelength (m)\n",
    "c0 = 3e8                    # speed of light in vacuum (m/s)\n",
    "omega = 2*np.pi*c0/lambda0  # angular frequency (2pi/s)\n",
    "dl = 2e-1                   # grid size (L0)\n",
    "NPML = [15, 15]             # number of pml grid points on x and y borders\n",
    "pol = 'Ez'                  # polarization (either 'Hz' or 'Ez')\n",
    "source_amp = 20              # amplitude of modal source (A/L0^2?)"
   ]
  },
  {
   "cell_type": "code",
   "execution_count": 3,
   "metadata": {
    "collapsed": true
   },
   "outputs": [],
   "source": [
    "# material constants\n",
    "n_index = 2.44              # refractive index\n",
    "eps_m = n_index**2          # relative permittivity\n",
    "chi3 = 4.1*1e-19            # Al2S3 from Boyd (m^2/V^2)\n",
    "max_ind_shift = 7e-3      # maximum allowed nonlinear refractive index shift (computed from damage threshold)"
   ]
  },
  {
   "cell_type": "code",
   "execution_count": 4,
   "metadata": {
    "collapsed": true
   },
   "outputs": [],
   "source": [
    "# geometric parameters\n",
    "L = 20         # length of design region (L0)\n",
    "H = 5         # height of design region (L0)\n",
    "w = 0.5        # width of waveguides (L0)\n",
    "l = 4         # length of waveguide from PML to design region (L0)\n",
    "spc = 2     # space between box and PML (L0)"
   ]
  },
  {
   "cell_type": "code",
   "execution_count": 5,
   "metadata": {
    "collapsed": false
   },
   "outputs": [
    {
     "name": "stdout",
     "output_type": "stream",
     "text": [
      "Computed a domain with 170 grids in x and 75 grids in y\n",
      "The simulation has 10 grids per free space wavelength\n"
     ]
    },
    {
     "data": {
      "image/png": "[encoded data removed]",
      "text/plain": [
       "<Figure size 432x288 with 2 Axes>"
      ]
     },
     "metadata": {},
     "output_type": "display_data"
    }
   ],
   "source": [
    "# define permittivity of three port system\n",
    "eps_r, design_region = two_port(L, H, w, l, spc, dl, NPML, eps_start=eps_m)\n",
    "(Nx, Ny) = eps_r.shape\n",
    "nx, ny = int(Nx/2), int(Ny/2)            # halfway grid points\n",
    "\n",
    "simulation = Simulation(omega, eps_r, dl, NPML, pol)\n",
    "# compute the grid size the total grid size\n",
    "print(\"Computed a domain with {} grids in x and {} grids in y\".format(Nx,Ny))\n",
    "print(\"The simulation has {} grids per free space wavelength\".format(int(lambda0/dl/simulation.L0)))\n",
    "simulation.plt_eps()\n",
    "plt.show()"
   ]
  },
  {
   "cell_type": "code",
   "execution_count": 6,
   "metadata": {
    "collapsed": false
   },
   "outputs": [
    {
     "name": "stdout",
     "output_type": "stream",
     "text": [
      "Calculate an input power of 3.2555610892419824 Watts/L0\n"
     ]
    }
   ],
   "source": [
    "# set the modal source and probes\n",
    "simulation = Simulation(omega, eps_r, dl, NPML, 'Ez')\n",
    "simulation.add_mode(np.sqrt(eps_m), 'x', [NPML[0]+int(l/2/dl), ny], int(Ny/2), scale=source_amp)\n",
    "simulation.setup_modes()\n",
    "print('Calculate an input power of {} Watts/L0'.format(simulation.W_in))\n",
    "\n",
    "# out modal profile\n",
    "sim_out = Simulation(omega, eps_r, dl, NPML, 'Ez')\n",
    "sim_out.add_mode(np.sqrt(eps_m), 'x', [-NPML[0]-int(l/2/dl), ny], int(Ny/2))\n",
    "sim_out.setup_modes()\n",
    "J_out = np.abs(sim_out.src)\n",
    "\n",
    "# in modal profile\n",
    "sim_in = Simulation(omega, eps_r, dl, NPML, 'Ez')\n",
    "sim_in.add_mode(np.sqrt(eps_m), 'x', [NPML[0]+int(l*2/3/dl), ny], int(Ny/2))\n",
    "sim_in.setup_modes()\n",
    "J_in = np.abs(sim_in.src)"
   ]
  },
  {
   "cell_type": "code",
   "execution_count": 7,
   "metadata": {
    "collapsed": false
   },
   "outputs": [
    {
     "data": {
      "image/png": "[encoded data removed]",
      "text/plain": [
       "<Figure size 432x288 with 2 Axes>"
      ]
     },
     "metadata": {},
     "output_type": "display_data"
    }
   ],
   "source": [
    "# set source and solve for electromagnetic fields\n",
    "(Hx,Hy,Ez) = simulation.solve_fields()\n",
    "simulation.plt_abs(outline=True, cbar=True);"
   ]
  },
  {
   "cell_type": "code",
   "execution_count": 8,
   "metadata": {},
   "outputs": [],
   "source": [
    "chi3 = 2.8*1e-18                           # Silcion in m^2/V^2 from Boyd's book\n",
    "import copy\n",
    "nl_region = copy.deepcopy(design_region)\n",
    "\n",
    "simulation.nonlinearity = []  # This is needed in case you re-run this cell, for example (or you can re-initialize simulation every time)\n",
    "simulation.add_nl(chi3, nl_region, eps_scale=True, eps_max=eps_m)"
   ]
  },
  {
   "cell_type": "markdown",
   "metadata": {},
   "source": [
    "## Both Linear and Nonlinear"
   ]
  },
  {
   "cell_type": "code",
   "execution_count": 9,
   "metadata": {
    "collapsed": true
   },
   "outputs": [],
   "source": [
    "# define linear and nonlinear parts of objective function + the total objective function form\n",
    "J = {}\n",
    "J['linear']    = lambda e, eps_r:  np.sum(np.square(np.abs(e))*J_out) / np.sum(np.square(np.abs(e))) \n",
    "J['nonlinear'] = lambda e, eps_r: -np.sum(np.square(np.abs(e))*J_out) / np.sum(np.square(np.abs(e))) \n",
    "J['total']     = lambda J_lin, J_nonlin: J_lin + J_nonlin\n",
    "\n",
    "# define linear and nonlinear parts of dJdE + the total derivative form\n",
    "dJ = {}\n",
    "dJ['dE_linear']    = lambda e, eps_r:  np.conj(e)*J_out / np.sum(np.square(np.abs(e))*J_in) \\\n",
    "                                     - np.sum(np.square(np.abs(e))*J_out) / np.sum(np.square(np.abs(e))*J_in) * 1/e\n",
    "dJ['dE_nonlinear'] = lambda e, eps_r:- np.conj(e)*J_out / np.sum(np.square(np.abs(e))*J_in) \\\n",
    "                                     - np.sum(np.square(np.abs(e))*J_out) / np.sum(np.square(np.abs(e))*J_in) * 1/e\n",
    "dJ['total']     = lambda J_lin, J_nonlin, dJ_lin, dJ_nonlin: dJ_lin + dJ_nonlin\n"
   ]
  },
  {
   "cell_type": "code",
   "execution_count": 10,
   "metadata": {},
   "outputs": [],
   "source": [
    "# define linear and nonlinear parts of objective function + the total objective function form\n",
    "import autograd.numpy as np\n",
    "from autograd import grad\n",
    "\n",
    "J = {}\n",
    "J['linear']    = lambda e, eps_r:  np.sum(np.square(np.abs(e))*J_out)\n",
    "J['nonlinear'] = lambda e, eps_r:  -np.sum(np.square(np.abs(e))*J_out)\n",
    "J['total']     = lambda J_lin, J_nonlin: J_lin + J_nonlin\n",
    "\n",
    "# define linear and nonlinear parts of dJdE + the total derivative form\n",
    "dJ = {}\n",
    "dJ['dE_linear']    = grad(J['linear'], 0)\n",
    "dJ['dE_nonlinear'] = grad(J['nonlinear'], 0)\n",
    "# dJ['dE_linear']    = lambda e, eps_r: np.conj(e)*J_out\n",
    "# dJ['dE_nonlinear'] = lambda e, eps_r: -np.conj(e)*J_out\n",
    "dJ['total']        = lambda J_lin, J_nonlin, dJ_lin, dJ_nonlin: dJ_lin + dJ_nonlin\n"
   ]
  },
  {
   "cell_type": "code",
   "execution_count": 11,
   "metadata": {
    "collapsed": false
   },
   "outputs": [
    {
     "name": "stdout",
     "output_type": "stream",
     "text": [
      "the simulation did not converge, reached 0.10228009273535628\n",
      "the simulation did not converge, reached 0.06922329296874902\n",
      "the simulation did not converge, reached 0.08929953765950199\n",
      "the simulation did not converge, reached 0.10492748434078317\n",
      "the simulation did not converge, reached 0.06068156763836967\n",
      "the simulation did not converge, reached 0.044509690811113535\n",
      "differences: = \n",
      "[256.95928883481065, 32.15689368493608, 95.01633910238395, 1034.2386815635964, 11317.277300538004]\n"
     ]
    }
   ],
   "source": [
    "# optimization parameters\n",
    "Nsteps =  20\n",
    "step_size = 2e-3\n",
    "solver = 'newton'\n",
    "opt_method = 'adam'\n",
    "\n",
    "# initialize an optimization object with the above parameters and objective function information\n",
    "simulation.eps_r = eps_r\n",
    "optimization = Optimization(Nsteps=Nsteps, J=J, dJ=dJ, eps_max=eps_m, step_size=step_size,\n",
    "                            solver=solver, opt_method=opt_method, max_ind_shift=max_ind_shift)\n",
    "\n",
    "# check the derivatives\n",
    "(grad_avm, grad_num) = optimization.check_deriv_lin(simulation, design_region)\n",
    "(grad_avm, grad_num) = optimization.check_deriv_nonlin(simulation, design_region)\n",
    "print('differences: = \\n{}'.format([abs(a - 2*n) for a, n in zip(grad_avm, grad_num)]))\n"
   ]
  },
  {
   "cell_type": "code",
   "execution_count": 12,
   "metadata": {
    "collapsed": false
   },
   "outputs": [
    {
     "name": "stderr",
     "output_type": "stream",
     "text": [
      "N/A% (0 of 2000) |                       | Elapsed Time: 0:00:00 ETA:  --:--:--"
     ]
    },
    {
     "name": "stdout",
     "output_type": "stream",
     "text": [
      "the simulation did not converge, reached 0.10586276137023838\n"
     ]
    },
    {
     "name": "stderr",
     "output_type": "stream",
     "text": [
      "  0% (9 of 2000) |                       | Elapsed Time: 0:00:13 ETA:   0:30:04ERROR:root:Internal Python error in the inspect module.\n",
      "Below is the traceback from this internal error.\n",
      "\n"
     ]
    },
    {
     "name": "stdout",
     "output_type": "stream",
     "text": [
      "Traceback (most recent call last):\n",
      "  File \"/anaconda3/lib/python3.6/site-packages/IPython/core/interactiveshell.py\", line 2910, in run_code\n",
      "    exec(code_obj, self.user_global_ns, self.user_ns)\n",
      "  File \"<ipython-input-12-417a8cc0a40c>\", line 2, in <module>\n",
      "    new_eps = optimization.run(simulation, design_region)\n",
      "  File \"../optimization.py\", line 138, in run\n",
      "    (J_lin, J_nonlin, J_tot) = self._compute_objectivefn(Ez, Ez_nl, eps_lin)\n",
      "  File \"../optimization.py\", line 469, in _compute_objectivefn\n",
      "    self.simulation.modes[0].compute_normalization(self.simulation)\n",
      "  File \"/anaconda3/lib/python3.6/site-packages/fdfdpy-0.1.2-py3.6.egg/fdfdpy/source/mode.py\", line 54, in compute_normalization\n",
      "    simulation_norm.solve_fields()\n",
      "  File \"/anaconda3/lib/python3.6/site-packages/fdfdpy-0.1.2-py3.6.egg/fdfdpy/simulation.py\", line 111, in solve_fields\n",
      "    solver=solver)\n",
      "  File \"/anaconda3/lib/python3.6/site-packages/fdfdpy-0.1.2-py3.6.egg/fdfdpy/linalg.py\", line 136, in solver_direct\n",
      "    pSolve.factor()\n",
      "  File \"/anaconda3/lib/python3.6/site-packages/pyMKL-0.0.3-py3.6.egg/pyMKL/pardisoSolver.py\", line 146, in factor\n",
      "    out = self.run_pardiso(phase=12)\n",
      "  File \"/anaconda3/lib/python3.6/site-packages/pyMKL-0.0.3-py3.6.egg/pyMKL/pardisoSolver.py\", line 220, in run_pardiso\n",
      "    byref(c_int(ERR)))          # error\n",
      "KeyboardInterrupt\n",
      "\n",
      "During handling of the above exception, another exception occurred:\n",
      "\n",
      "Traceback (most recent call last):\n",
      "  File \"/anaconda3/lib/python3.6/site-packages/IPython/core/interactiveshell.py\", line 1828, in showtraceback\n",
      "    stb = value._render_traceback_()\n",
      "AttributeError: 'KeyboardInterrupt' object has no attribute '_render_traceback_'\n",
      "\n",
      "During handling of the above exception, another exception occurred:\n",
      "\n",
      "Traceback (most recent call last):\n",
      "  File \"/anaconda3/lib/python3.6/site-packages/IPython/core/ultratb.py\", line 1090, in get_records\n",
      "    return _fixed_getinnerframes(etb, number_of_lines_of_context, tb_offset)\n",
      "  File \"/anaconda3/lib/python3.6/site-packages/IPython/core/ultratb.py\", line 311, in wrapped\n",
      "    return f(*args, **kwargs)\n",
      "  File \"/anaconda3/lib/python3.6/site-packages/IPython/core/ultratb.py\", line 345, in _fixed_getinnerframes\n",
      "    records = fix_frame_records_filenames(inspect.getinnerframes(etb, context))\n",
      "  File \"/anaconda3/lib/python3.6/inspect.py\", line 1483, in getinnerframes\n",
      "    frameinfo = (tb.tb_frame,) + getframeinfo(tb, context)\n",
      "  File \"/anaconda3/lib/python3.6/inspect.py\", line 1441, in getframeinfo\n",
      "    filename = getsourcefile(frame) or getfile(frame)\n",
      "  File \"/anaconda3/lib/python3.6/inspect.py\", line 696, in getsourcefile\n",
      "    if getattr(getmodule(object, filename), '__loader__', None) is not None:\n",
      "  File \"/anaconda3/lib/python3.6/inspect.py\", line 742, in getmodule\n",
      "    os.path.realpath(f)] = module.__name__\n",
      "  File \"/anaconda3/lib/python3.6/posixpath.py\", line 386, in realpath\n",
      "    path, ok = _joinrealpath(filename[:0], filename, {})\n",
      "  File \"/anaconda3/lib/python3.6/posixpath.py\", line 420, in _joinrealpath\n",
      "    if not islink(newpath):\n",
      "  File \"/anaconda3/lib/python3.6/posixpath.py\", line 169, in islink\n",
      "    st = os.lstat(path)\n",
      "KeyboardInterrupt\n"
     ]
    },
    {
     "ename": "KeyboardInterrupt",
     "evalue": "",
     "output_type": "error",
     "traceback": [
      "\u001b[0;31m---------------------------------------------------------------------------\u001b[0m"
     ]
    }
   ],
   "source": [
    "# run the optimization with the simulation and the region and nonlinearity information\n",
    "new_eps = optimization.run(simulation, design_region)"
   ]
  },
  {
   "cell_type": "code",
   "execution_count": null,
   "metadata": {
    "collapsed": false
   },
   "outputs": [],
   "source": [
    "# plot optimization results\n",
    "f, (ax1, ax2) = plt.subplots(1, 2, figsize=(16,5))\n",
    "\n",
    "# ax1.plot(optimization.W_in)\n",
    "simulation.plt_eps(ax=ax1)\n",
    "ax1.set_title('final permittivity distribution')\n",
    "\n",
    "optimization.plt_objs(ax=ax2, scaled='W_in')\n",
    "ax2.set_yscale('log')\n",
    "plt.show()"
   ]
  },
  {
   "cell_type": "code",
   "execution_count": null,
   "metadata": {
    "collapsed": false
   },
   "outputs": [],
   "source": [
    "# compare the linear and nonlinear fields\n",
    "\n",
    "# simulation.eps_r = new_eps\n",
    "\n",
    "# setup subplots\n",
    "f, (ax1, ax2, ax3) = plt.subplots(1,3, figsize=(20,5))\n",
    "\n",
    "# linear fields\n",
    "(Hx,Hy,Ez) = simulation.solve_fields()\n",
    "simulation.plt_abs(ax=ax1, vmax=None)\n",
    "ax1.set_title('linear field')\n",
    "\n",
    "# nonlinear fields\n",
    "(Hx_nl,Hy_nl,Ez_nl,_) = simulation.solve_fields_nl()\n",
    "simulation.plt_abs(ax=ax2, vmax=None)\n",
    "ax2.set_title('nonlinear field')\n",
    "\n",
    "# difference\n",
    "difference = np.abs(Ez.T - Ez_nl.T)\n",
    "im = plt.imshow(difference, vmin=-np.max(difference), vmax=np.max(difference), cmap='RdYlBu', origin='lower')\n",
    "f.colorbar(im, ax=ax3)\n",
    "ax3.set_title('|Ez| for linear - nonlinear')\n",
    "\n",
    "plt.show()"
   ]
  },
  {
   "cell_type": "code",
   "execution_count": null,
   "metadata": {
    "collapsed": false
   },
   "outputs": [],
   "source": [
    "# compute the refractive index shift\n",
    "index_shift = optimization.compute_index_shift(simulation)\n",
    "print('maximum refractive index shift of {}'.format(np.max(index_shift)))\n",
    "plt.imshow(index_shift.T, cmap='magma')\n",
    "plt.colorbar()\n",
    "plt.title('refractive index shift')\n",
    "plt.show()"
   ]
  },
  {
   "cell_type": "code",
   "execution_count": null,
   "metadata": {},
   "outputs": [],
   "source": [
    "freqs, objs, FWHM = optimization.scan_frequency(Nf=10, df=1/200)\n",
    "optimization.simulation.omega = omega\n",
    "plt.plot([f/1e12 for f in freqs], objs)\n",
    "plt.xlabel('frequency (THz)')\n",
    "plt.ylabel('objective function')\n",
    "plt.show()\n",
    "print('computed FWHM of {} (THz):'.format(FWHM/1e12))\n"
   ]
  },
  {
   "cell_type": "code",
   "execution_count": null,
   "metadata": {
    "collapsed": true
   },
   "outputs": [],
   "source": [
    "# compute powers\n",
    "\n",
    "# input power\n",
    "W_in = simulation.W_in\n",
    "\n",
    "# linear powers\n",
    "(Hx,Hy,Ez) = simulation.solve_fields()\n",
    "W_out_lin = simulation.flux_probe('x', [-NPML[0]-int(l/2/dl), ny], int(Ny/2))\n",
    "W_in_lin = simulation.flux_probe('x', [NPML[0]+int(2*l/3/dl), ny], int(Ny/2))\n",
    "\n",
    "T_lin = W_out_lin/W_in_lin\n",
    "\n",
    "# nonlinear powers\n",
    "(Hx_nl,Hy_nl,Ez_nl,_) = simulation.solve_fields_nl()\n",
    "W_out_nl = simulation.flux_probe('x', [-NPML[0]-int(l/2/dl), ny], int(Ny/2))\n",
    "W_in_nl = simulation.flux_probe('x', [NPML[0]+int(2*l/3/dl), ny], int(Ny/2))\n",
    "\n",
    "T_nl = W_out_nl/W_in_nl\n",
    "\n",
    "print('difference of {} %'.format(100*abs(W_out_lin-W_out_nl)/W_out_lin))\n",
    "print('linear transmission    = {}'.format(T_lin))\n",
    "print('nonlinear transmission = {}'.format(T_nl))\n",
    "print('difference of {} %'.format(100*abs(T_lin-T_nl)))\n"
   ]
  },
  {
   "cell_type": "code",
   "execution_count": null,
   "metadata": {},
   "outputs": [],
   "source": []
  },
  {
   "cell_type": "code",
   "execution_count": null,
   "metadata": {},
   "outputs": [],
   "source": []
  },
  {
   "cell_type": "code",
   "execution_count": null,
   "metadata": {},
   "outputs": [],
   "source": []
  }
 ],
 "metadata": {
  "anaconda-cloud": {},
  "kernelspec": {
   "display_name": "Python 3",
   "language": "python",
   "name": "python3"
  },
  "language_info": {
   "codemirror_mode": {
    "name": "ipython",
    "version": 3
   },
   "file_extension": ".py",
   "mimetype": "text/x-python",
   "name": "python",
   "nbconvert_exporter": "python",
   "pygments_lexer": "ipython3",
   "version": "3.6.4"
  }
 },
 "nbformat": 4,
 "nbformat_minor": 2
}
